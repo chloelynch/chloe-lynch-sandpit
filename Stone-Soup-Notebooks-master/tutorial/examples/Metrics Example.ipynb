{
 "cells": [
  {
   "cell_type": "markdown",
   "metadata": {},
   "source": [
    "<h1 align=\"center\">Stone Soup Metrics Example</h1>\n",
    "<h3 align=\"center\">This notebook illustrates how to generate GOSPA and OSPA metrics using simulated data in StoneSoup</h3>\n",
    "\n"
   ]
  },
  {
   "cell_type": "markdown",
   "metadata": {},
   "source": [
    "First we will generate test data."
   ]
  },
  {
   "cell_type": "code",
   "execution_count": 1,
   "metadata": {},
   "outputs": [],
   "source": [
    "%matplotlib inline\n",
    "import matplotlib\n",
    "import numpy as np\n",
    "import matplotlib.pyplot as plt\n",
    "\n",
    "# Simulate 2-dimensional cartesian data.\n",
    "# Let 'track_set' denote the set of tracked positions,\n",
    "# and let 'truth_set' denote the set of truth positions.\n",
    "# Cardinality of these sets are randomly assigned \n",
    "# integers between 5 and 15.\n",
    "\n",
    "ndim = 2\n",
    "ntracks = np.random.randint(5,15)\n",
    "mtruths = np.random.randint(5,15)\n",
    "\n",
    "track_set = 20 * (np.random.random_sample((ndim, ntracks)) - 0.5)\n",
    "truth_set = 20 * (np.random.random_sample((ndim, mtruths)) - 0.5)"
   ]
  },
  {
   "cell_type": "markdown",
   "metadata": {},
   "source": [
    "Next, generate GOSPA metric using the *GOSPAMetric* generator class. Also compute the assignment matrix for plotting results."
   ]
  },
  {
   "cell_type": "code",
   "execution_count": 2,
   "metadata": {
    "collapsed": false,
    "jupyter": {
     "outputs_hidden": false
    }
   },
   "outputs": [
    {
     "ename": "ModuleNotFoundError",
     "evalue": "No module named 'stonesoup'",
     "output_type": "error",
     "traceback": [
      "\u001b[1;31m---------------------------------------------------------------------------\u001b[0m",
      "\u001b[1;31mModuleNotFoundError\u001b[0m                       Traceback (most recent call last)",
      "\u001b[1;32m<ipython-input-2-15fcae7d8539>\u001b[0m in \u001b[0;36m<module>\u001b[1;34m\u001b[0m\n\u001b[0;32m      1\u001b[0m \u001b[1;31m# Compute GOSPA\u001b[0m\u001b[1;33m\u001b[0m\u001b[1;33m\u001b[0m\u001b[1;33m\u001b[0m\u001b[0m\n\u001b[1;32m----> 2\u001b[1;33m \u001b[1;32mfrom\u001b[0m \u001b[0mstonesoup\u001b[0m\u001b[1;33m.\u001b[0m\u001b[0mmetricgenerator\u001b[0m\u001b[1;33m.\u001b[0m\u001b[0mospametric\u001b[0m \u001b[1;32mimport\u001b[0m \u001b[0mGOSPAMetric\u001b[0m\u001b[1;33m\u001b[0m\u001b[1;33m\u001b[0m\u001b[0m\n\u001b[0m\u001b[0;32m      3\u001b[0m \u001b[1;32mfrom\u001b[0m \u001b[0mstonesoup\u001b[0m\u001b[1;33m.\u001b[0m\u001b[0mtypes\u001b[0m\u001b[1;33m.\u001b[0m\u001b[0mstate\u001b[0m \u001b[1;32mimport\u001b[0m \u001b[0mState\u001b[0m\u001b[1;33m\u001b[0m\u001b[1;33m\u001b[0m\u001b[0m\n\u001b[0;32m      4\u001b[0m \u001b[1;32mfrom\u001b[0m \u001b[0mstonesoup\u001b[0m\u001b[1;33m.\u001b[0m\u001b[0mtypes\u001b[0m\u001b[1;33m.\u001b[0m\u001b[0mtrack\u001b[0m \u001b[1;32mimport\u001b[0m \u001b[0mTrack\u001b[0m\u001b[1;33m\u001b[0m\u001b[1;33m\u001b[0m\u001b[0m\n\u001b[0;32m      5\u001b[0m \u001b[1;32mfrom\u001b[0m \u001b[0mstonesoup\u001b[0m\u001b[1;33m.\u001b[0m\u001b[0mtypes\u001b[0m\u001b[1;33m.\u001b[0m\u001b[0mgroundtruth\u001b[0m \u001b[1;32mimport\u001b[0m \u001b[0mGroundTruthPath\u001b[0m\u001b[1;33m\u001b[0m\u001b[1;33m\u001b[0m\u001b[0m\n",
      "\u001b[1;31mModuleNotFoundError\u001b[0m: No module named 'stonesoup'"
     ]
    }
   ],
   "source": [
    "# Compute GOSPA\n",
    "from stonesoup.metricgenerator.ospametric import GOSPAMetric\n",
    "from stonesoup.types.state import State\n",
    "from stonesoup.types.track import Track\n",
    "from stonesoup.types.groundtruth import GroundTruthPath\n",
    "from stonesoup.models.measurement.linear import LinearGaussian\n",
    "\n",
    "from datetime import datetime, timedelta\n",
    "\n",
    "time = datetime.now()\n",
    "\n",
    "track_obj = Track([State(state_vector=[[track_set[0,i]], [track_set[1,i]]], timestamp=time)\n",
    "                   for i in range(track_set.shape[1])])\n",
    "\n",
    "truth_obj = GroundTruthPath([State(state_vector=[[truth_set[0,i]], [truth_set[1,i]]], timestamp=time)\n",
    "                             for i in range(truth_set.shape[1])])\n",
    "\n",
    "cutoff_distance = 8\n",
    "\n",
    "gospa_generator = GOSPAMetric(c=cutoff_distance, p=2,\n",
    "                        measurement_model_truth=LinearGaussian(2,[[0],[1]],None),\n",
    "                        measurement_model_track=LinearGaussian(2,[[0],[1]],None))\n",
    "gospa_cost_matrix = gospa_generator.compute_cost_matrix(track_obj.states, truth_obj.states)\n",
    "gospa_metric = gospa_generator.compute_over_time(track_obj.states,\n",
    "                                       truth_obj.states)\n",
    "assignment_matrix = gospa_generator.compute_gospa_metric(track_obj.states,\n",
    "                                       truth_obj.states)[1]"
   ]
  },
  {
   "cell_type": "markdown",
   "metadata": {},
   "source": [
    "Plot GOSPA metric results."
   ]
  },
  {
   "cell_type": "code",
   "execution_count": 3,
   "metadata": {
    "collapsed": false,
    "jupyter": {
     "outputs_hidden": false
    }
   },
   "outputs": [
    {
     "data": {
      "text/plain": [
       "<matplotlib.legend.Legend at 0x8c23a58>"
      ]
     },
     "execution_count": 3,
     "metadata": {},
     "output_type": "execute_result"
    },
    {
     "data": {
      "image/png": "[encoded data removed]",
      "text/plain": [
       "<matplotlib.figure.Figure at 0x8b67358>"
      ]
     },
     "metadata": {},
     "output_type": "display_data"
    }
   ],
   "source": [
    "# Plot\n",
    "fig_a = plt.plot(track_set[0,:], track_set[1,:], 'bo', truth_set[0,:], truth_set[1,:], 'r+')\n",
    "truth_ind = range(0, np.max([ntracks, mtruths]))\n",
    "i, j = np.where(assignment_matrix != -1)\n",
    "truth_ind = [truth_ind[n] for n in j]\n",
    "track_ind = assignment_matrix[0, np.argwhere(assignment_matrix != -1)[:,1]]\n",
    "for ind in range(len(truth_ind)):\n",
    "    db = np.min([np.sqrt(sum(np.square(track_set[:,track_ind[ind]] - truth_set[:,truth_ind[ind]]))), cutoff_distance])\n",
    "    if db < cutoff_distance:\n",
    "        plt.plot([track_set[0, track_ind[ind]], truth_set[0, truth_ind[ind]]], [track_set[1, track_ind[ind]], truth_set[1, truth_ind[ind]]], 'k-')\n",
    "        plt.text(track_set[0, track_ind[ind]]/2.+truth_set[0, truth_ind[ind]]/2.,\n",
    "                 track_set[1, track_ind[ind]]/2.+truth_set[1, truth_ind[ind]]/2., \"{:.2f}\".format(db), horizontalalignment='right', verticalalignment='bottom')\n",
    "plt.title(\"GOSPA Example [c={}, alpha={}, p={}, GOSPA distance={:.2f}], Missed={:.2f}, False={:.2f}\".format(gospa_generator.c, gospa_generator.alpha, gospa_generator.p, gospa_metric.value['distance'],gospa_metric.value['false'], gospa_metric.value['missed']))\n",
    "plt.legend(['Track', 'Truth'])"
   ]
  },
  {
   "cell_type": "markdown",
   "metadata": {},
   "source": [
    "Next, generate OSPA metric using the OSPAMetric class. Also compute the assignment matrix for plotting results."
   ]
  },
  {
   "cell_type": "code",
   "execution_count": 4,
   "metadata": {
    "collapsed": true,
    "jupyter": {
     "outputs_hidden": true
    }
   },
   "outputs": [],
   "source": [
    "# Compute OSPA\n",
    "from stonesoup.metricgenerator.ospametric import OSPAMetric\n",
    "from scipy.optimize import linear_sum_assignment\n",
    "\n",
    "time = datetime.now()\n",
    "\n",
    "track_obj = Track([State(state_vector=[[track_set[0,i]], [track_set[1,i]]], timestamp=time)\n",
    "                   for i in range(track_set.shape[1])])\n",
    "\n",
    "truth_obj = GroundTruthPath([State(state_vector=[[truth_set[0,i]], [truth_set[1,i]]], timestamp=time)\n",
    "                             for i in range(truth_set.shape[1])])\n",
    "\n",
    "cutoff_distance = 8\n",
    "\n",
    "ospa_generator = OSPAMetric(c=cutoff_distance, p=2,\n",
    "                        measurement_model_truth=LinearGaussian(2,[[0],[1]],None),\n",
    "                        measurement_model_track=LinearGaussian(2,[[0],[1]],None))\n",
    "ospa_metric = ospa_generator.compute_over_time(track_obj.states,\n",
    "                                       truth_obj.states)\n",
    "ospa_cost_matrix = ospa_generator.compute_cost_matrix(track_obj.states, truth_obj.states)\n",
    "measured_to_truth, truth_to_measured = linear_sum_assignment(ospa_cost_matrix)"
   ]
  },
  {
   "cell_type": "markdown",
   "metadata": {},
   "source": [
    "Plot OSPA metric results."
   ]
  },
  {
   "cell_type": "code",
   "execution_count": 5,
   "metadata": {
    "collapsed": false,
    "jupyter": {
     "outputs_hidden": false
    }
   },
   "outputs": [
    {
     "data": {
      "text/plain": [
       "<matplotlib.legend.Legend at 0x8ea8550>"
      ]
     },
     "execution_count": 5,
     "metadata": {},
     "output_type": "execute_result"
    },
    {
     "data": {
      "image/png": "[encoded data removed]",
      "text/plain": [
       "<matplotlib.figure.Figure at 0x8b6fb38>"
      ]
     },
     "metadata": {},
     "output_type": "display_data"
    }
   ],
   "source": [
    "fig_b = plt.plot(track_set[0,:], track_set[1,:], 'bo', truth_set[0,:], truth_set[1,:], 'r+')\n",
    "truth_ind = truth_to_measured\n",
    "track_ind = measured_to_truth\n",
    "for ind in range(len(truth_ind)):\n",
    "    db = np.min([np.sqrt(sum(np.square(track_set[:,track_ind[ind]] - truth_set[:,truth_ind[ind]]))), ospa_generator.c])\n",
    "    if db < cutoff_distance:\n",
    "        plt.plot([track_set[0, track_ind[ind]], truth_set[0, truth_ind[ind]]], [track_set[1, track_ind[ind]], truth_set[1, truth_ind[ind]]], 'k-')\n",
    "        plt.text(track_set[0, track_ind[ind]]/2.+truth_set[0, truth_ind[ind]]/2.,\n",
    "                 track_set[1, track_ind[ind]]/2.+truth_set[1, truth_ind[ind]]/2., \"{:.2f}\".format(db), horizontalalignment='right', verticalalignment='bottom')\n",
    "plt.title(\"OSPA Example [c={}, p={}, OSPA distance={:.2f}]\".format(ospa_generator.c, ospa_generator.p, ospa_metric.value))\n",
    "plt.legend(['Track', 'Truth'])"
   ]
  }
 ],
 "metadata": {
  "kernelspec": {
   "display_name": "Python 3",
   "language": "python",
   "name": "python3"
  },
  "language_info": {
   "codemirror_mode": {
    "name": "ipython",
    "version": 3
   },
   "file_extension": ".py",
   "mimetype": "text/x-python",
   "name": "python",
   "nbconvert_exporter": "python",
   "pygments_lexer": "ipython3",
   "version": "3.7.6"
  }
 },
 "nbformat": 4,
 "nbformat_minor": 4
}

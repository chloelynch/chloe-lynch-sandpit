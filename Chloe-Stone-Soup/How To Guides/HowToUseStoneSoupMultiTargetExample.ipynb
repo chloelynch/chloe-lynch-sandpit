{
 "cells": [
  {
   "cell_type": "markdown",
   "metadata": {},
   "source": [
    "<h1 align=\"center\">Creating Trackers Using Stone Soup</h1>\n",
    "<h3 align=\"center\">Multi Target Detection Simulator Example</h3>"
   ]
  },
  {
   "cell_type": "markdown",
   "metadata": {},
   "source": [
    "Before beginning to construct your tracker it is a good idea to refer to the *Data Flows* diagram in the Stone Soup documentation. This will help you visualise and understand the data flow process required for the different components available to you. "
   ]
  },
  {
   "cell_type": "markdown",
   "metadata": {},
   "source": [
    "<h3>1. Setup Script</h3>\n",
    "\n",
    "Begin your script with some general setup and imports. The following are packages that enable us to do certain actions later in the code. "
   ]
  },
  {
   "cell_type": "code",
   "execution_count": 1,
   "metadata": {},
   "outputs": [],
   "source": [
    "#General imports and plotting\n",
    "import datetime\n",
    "import numpy as np\n",
    "\n",
    "# Plotting\n",
    "%matplotlib inline\n",
    "import matplotlib\n",
    "from matplotlib import pyplot as plt\n",
    "plt.rcParams['figure.figsize'] = (10, 6)\n",
    "plt.style.use('seaborn-colorblind')\n"
   ]
  },
  {
   "cell_type": "markdown",
   "metadata": {},
   "source": [
    "<h3>2. Generate Data</h3>\n",
    "\n",
    "As shown in the *Data Flows* diagram, all tracking/detection components require some form of data. Where this data comes from however, is up to the user and the components which are going to be used in the Tracker. Some components require Readers to generate data, others require Simulators, some require both and there is also the option of using data already available to you in Stone Soups 'types' class. In this example we have chosen to use a 'Ground Truth Simulator' and a 'Detection Simulator' which will give us Detection Data to feed into our Tracker. "
   ]
  },
  {
   "cell_type": "markdown",
   "metadata": {},
   "source": [
    "<h4> Models </h4>"
   ]
  },
  {
   "cell_type": "markdown",
   "metadata": {},
   "source": [
    "In order to generate data we have to choose which transition model and measurement model we want to use.\n",
    "This example uses a Linear Gaussian 2D-position constant velocity transition model ($x$, $\\dot{x}$, $y$ and $\\dot{y}$)"
   ]
  },
  {
   "cell_type": "code",
   "execution_count": 3,
   "metadata": {
    "slideshow": {
     "slide_type": "slide"
    }
   },
   "outputs": [],
   "source": [
    "# Linear Gaussian transition model like in the 01-Kalman example\n",
    "from stonesoup.models.transition.linear import CombinedLinearGaussianTransitionModel, ConstantVelocity\n",
    "transition_model = CombinedLinearGaussianTransitionModel((ConstantVelocity(0.05), ConstantVelocity(0.05)))"
   ]
  },
  {
   "cell_type": "markdown",
   "metadata": {
    "slideshow": {
     "slide_type": "slide"
    }
   },
   "source": [
    "And a measurement model, which will map the position based detections ($x$ and $y$) to the position in the state."
   ]
  },
  {
   "cell_type": "code",
   "execution_count": 4,
   "metadata": {
    "slideshow": {
     "slide_type": "slide"
    }
   },
   "outputs": [],
   "source": [
    "# Use a Linear Gaussian measurement model like in 01-Kalman example\n",
    "from stonesoup.models.measurement.linear import LinearGaussian\n",
    "measurement_model = LinearGaussian(\n",
    "    4, # Number of state dimensions (position and velocity in 2D)\n",
    "    (0,2), # Mapping measurement vector index to state index\n",
    "    np.array([[10, 0],  # Covariance matrix for Gaussian PDF\n",
    "              [0, 10]])\n",
    "    )\n"
   ]
  },
  {
   "cell_type": "markdown",
   "metadata": {
    "slideshow": {
     "slide_type": "slide"
    }
   },
   "source": [
    "<h4> Simulators </h4>\n",
    "Next, we will implement our chosen simulators. This example uses a MULTI TARGET simulator but these can always be changed for other types of simulators."
   ]
  },
  {
   "cell_type": "code",
   "execution_count": 5,
   "metadata": {},
   "outputs": [],
   "source": [
    "# GROUND TRUTH SIMULATOR\n",
    "\n",
    "# Before running the Detection Simulator, a Ground Truth reader/simulator must be used in order to generate \n",
    "# Ground Truth Data which is used as an input to the Detection Simulator.\n",
    "from stonesoup.types.state import GaussianState\n",
    "from stonesoup.types.array import StateVector, CovarianceMatrix\n",
    "\n",
    "# Arbitrary initial state of target.\n",
    "initial_state=GaussianState( StateVector([[0], [0], [0], [0]]),\n",
    "        CovarianceMatrix(np.diag([1000000, 10, 1000000, 10])))\n",
    "\n",
    "from stonesoup.simulator.simple import SingleTargetGroundTruthSimulator\n",
    "groundtruth_sim = SingleTargetGroundTruthSimulator(\n",
    "            transition_model=transition_model,\n",
    "            initial_state=initial_state,\n",
    "            timestep=datetime.timedelta(seconds=1),\n",
    "            number_steps=100)\n"
   ]
  },
  {
   "cell_type": "code",
   "execution_count": 6,
   "metadata": {},
   "outputs": [],
   "source": [
    "# DETECTION SIMULATOR\n",
    "\n",
    "from stonesoup.simulator.simple import SimpleDetectionSimulator\n",
    "detection_sim = SimpleDetectionSimulator(groundtruth=groundtruth_sim,\n",
    "                       measurement_model=measurement_model,\n",
    "                       meas_range=np.array([[-1, 1],[-1, 1]])*5000, \n",
    "                       detection_probability=0.9, \n",
    "                       clutter_rate=0.2)\n",
    "                                \n",
    "detections_source = detection_sim"
   ]
  },
  {
   "cell_type": "markdown",
   "metadata": {},
   "source": [
    "<h3> 3. Implement Feeder (if necessary)</h3>\n",
    "Feeder classes are for manipulating data going into the tracker. In this example we are NOT going to use a feeder and just take the data as is."
   ]
  },
  {
   "cell_type": "markdown",
   "metadata": {},
   "source": [
    "<h3> 4. Set up Tracker Components </h3>"
   ]
  },
  {
   "cell_type": "markdown",
   "metadata": {},
   "source": [
    "<h4> Kalman Filter Components </h4>\n",
    "In this example we will use a basic Kalman Filter.\n",
    "\n"
   ]
  },
  {
   "cell_type": "code",
   "execution_count": 7,
   "metadata": {},
   "outputs": [],
   "source": [
    "# PRIOR STATE\n",
    "# Creating a prior estimate of where we think our target will be\n",
    "prior = initial_state \n",
    "\n",
    "# PREDICTOR\n",
    "from stonesoup.predictor.kalman import KalmanPredictor\n",
    "predictor = KalmanPredictor(transition_model)\n",
    "\n",
    "# UPDATER \n",
    "from stonesoup.updater.kalman import KalmanUpdater\n",
    "updater = KalmanUpdater(measurement_model)"
   ]
  },
  {
   "cell_type": "markdown",
   "metadata": {},
   "source": [
    "<h4> Data Association Components </h4>\n",
    "\n",
    "We create a Hypothesiser, which ranks the measurements against the predicted state. In this example we are using the Mahalanobis distance."
   ]
  },
  {
   "cell_type": "code",
   "execution_count": 8,
   "metadata": {},
   "outputs": [],
   "source": [
    "# HYPOTHESIER\n",
    "# Mahalanobis Hypothesiser as in 04-Data Association\n",
    "from stonesoup.hypothesiser.distance import DistanceHypothesiser\n",
    "from stonesoup.measures import Mahalanobis\n",
    "hypothesiser = DistanceHypothesiser(predictor, updater, measure=Mahalanobis(), missed_distance=3)"
   ]
  },
  {
   "cell_type": "markdown",
   "metadata": {},
   "source": [
    "And with this we'll create our data associator, which will select which measurement will be assigned to the predicted state. This example uses a Nearest Neighbour data associator."
   ]
  },
  {
   "cell_type": "code",
   "execution_count": 9,
   "metadata": {},
   "outputs": [],
   "source": [
    "#DATAASSOCIATOR\n",
    "from stonesoup.dataassociator.neighbour import NearestNeighbour\n",
    "data_associator = NearestNeighbour(hypothesiser)"
   ]
  },
  {
   "cell_type": "markdown",
   "metadata": {},
   "source": [
    "<h4> Computer Components </h4>\n",
    "These components are responsibile for the initiation and also the deletion of tracks."
   ]
  },
  {
   "cell_type": "markdown",
   "metadata": {},
   "source": [
    "The initiator generates tracks from unassociated detections and in this example a SimpleMeasurementInitiator is used."
   ]
  },
  {
   "cell_type": "code",
   "execution_count": 10,
   "metadata": {},
   "outputs": [],
   "source": [
    "# INITIATOR\n",
    "from stonesoup.initiator.simple import SimpleMeasurementInitiator\n",
    "initiator = SimpleMeasurementInitiator(\n",
    "    GaussianState(np.array([[0], [0], [0], [0]]), np.diag([10000, 100, 10000, 1000])),\n",
    "    measurement_model=measurement_model)"
   ]
  },
  {
   "cell_type": "markdown",
   "metadata": {},
   "source": [
    "The deleter removes tracks. For this example this will simply be based on a large covariance threshold"
   ]
  },
  {
   "cell_type": "code",
   "execution_count": 11,
   "metadata": {},
   "outputs": [],
   "source": [
    "# DELETER\n",
    "from stonesoup.deleter.error import CovarianceBasedDeleter\n",
    "deleter = CovarianceBasedDeleter(covar_trace_thresh=1E3)"
   ]
  },
  {
   "cell_type": "markdown",
   "metadata": {},
   "source": [
    "<h3> 5. Running the Tracker </h3>\n",
    "\n",
    "Now we have the all the componets set up we will now run the tracker. In this example a SingleTargetTracker is used."
   ]
  },
  {
   "cell_type": "code",
   "execution_count": 12,
   "metadata": {},
   "outputs": [],
   "source": [
    "# Single Target Tracker\n",
    "\n",
    "from stonesoup.tracker.simple import SingleTargetTracker\n",
    "tracker = SingleTargetTracker(\n",
    "    initiator=initiator,\n",
    "    deleter=deleter,\n",
    "    detector=detections_source,\n",
    "    data_associator=data_associator,\n",
    "    updater=updater,\n",
    ")\n"
   ]
  },
  {
   "cell_type": "markdown",
   "metadata": {},
   "source": [
    "<h3> 6. Display Results </h3>\n",
    "\n",
    "In Stone Soup, results can be viewed using a Metrics Generator.\n"
   ]
  },
  {
   "cell_type": "code",
   "execution_count": 18,
   "metadata": {},
   "outputs": [
    {
     "name": "stdout",
     "output_type": "stream",
     "text": [
      "Step: 10 Time: 2020-04-13 14:54:37.905503\n",
      "Step: 20 Time: 2020-04-13 14:54:47.905503\n",
      "Step: 30 Time: 2020-04-13 14:54:57.905503\n",
      "Step: 40 Time: 2020-04-13 14:55:07.905503\n",
      "Step: 50 Time: 2020-04-13 14:55:17.905503\n",
      "Step: 60 Time: 2020-04-13 14:55:27.905503\n",
      "Step: 70 Time: 2020-04-13 14:55:37.905503\n",
      "Step: 80 Time: 2020-04-13 14:55:47.905503\n",
      "Step: 90 Time: 2020-04-13 14:55:57.905503\n",
      "Step: 100 Time: 2020-04-13 14:56:07.905503\n"
     ]
    }
   ],
   "source": [
    "tracks = set()\n",
    "#for time,current_tracks in tracker.tracks_gen():\n",
    "#    tracks = tracks.union(current_tracks)\n",
    "groundtruth_paths = set()  # Store for plotting later\n",
    "detections = set()  # Store for plotting later\n",
    "for step, (time, ctracks) in enumerate(tracker.tracks_gen(), 1):\n",
    "    tracks.update(ctracks)\n",
    "    detections |= tracker.detector.detections\n",
    "    if not step % 10:\n",
    "        print(\"Step: {} Time: {}\".format(step, time))"
   ]
  },
  {
   "cell_type": "code",
   "execution_count": 20,
   "metadata": {},
   "outputs": [
    {
     "data": {
      "text/plain": [
       "TimeRangePlottingMetric(title='Track plot', value=<Figure size 720x432 with 1 Axes>, generator=TwoDPlotter(track_indices=[0, 1], gtruth_indices=[0, 1], detection_indices=[0, 1]), time_range=TimeRange(start_timestamp=datetime.datetime(2020, 4, 13, 14, 54, 28, 905503), end_timestamp=datetime.datetime(2020, 4, 13, 14, 56, 7, 905503)))"
      ]
     },
     "execution_count": 20,
     "metadata": {},
     "output_type": "execute_result"
    },
    {
     "data": {
      "image/png": "[encoded data removed]",
      "text/plain": [
       "<Figure size 720x432 with 1 Axes>"
      ]
     },
     "metadata": {
      "needs_background": "light"
     },
     "output_type": "display_data"
    }
   ],
   "source": [
    "# METRICSGENERATOR \n",
    "from stonesoup.metricgenerator.plotter import TwoDPlotter\n",
    "TwoDPlotter([0, 1], [0, 1], [0, 1]).plot_tracks_truth_detections(tracks, groundtruth_paths, detections)"
   ]
  },
  {
   "cell_type": "code",
   "execution_count": null,
   "metadata": {},
   "outputs": [],
   "source": []
  },
  {
   "cell_type": "code",
   "execution_count": null,
   "metadata": {},
   "outputs": [],
   "source": []
  },
  {
   "cell_type": "code",
   "execution_count": null,
   "metadata": {},
   "outputs": [],
   "source": []
  }
 ],
 "metadata": {
  "kernelspec": {
   "display_name": "Python 3",
   "language": "python",
   "name": "python3"
  },
  "language_info": {
   "codemirror_mode": {
    "name": "ipython",
    "version": 3
   },
   "file_extension": ".py",
   "mimetype": "text/x-python",
   "name": "python",
   "nbconvert_exporter": "python",
   "pygments_lexer": "ipython3",
   "version": "3.7.6"
  }
 },
 "nbformat": 4,
 "nbformat_minor": 4
}
